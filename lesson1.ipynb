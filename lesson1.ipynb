{
 "cells": [
  {
   "attachments": {},
   "cell_type": "markdown",
   "metadata": {},
   "source": [
    "fork - это операция клоннирование чужого репозитория в личный акк.Github,для даленьшего pull requests\n",
    "pull requests - это операция передачи изменений из личного репозитория в fork репозиторий, возможно только при наличии изменений\n",
    "commit - это фиксация изменений\n",
    "git clone - это операция клонирвоания из githab на локальный хост\n"
   ]
  },
  {
   "attachments": {},
   "cell_type": "markdown",
   "metadata": {},
   "source": [
    "создание виртуальное окружение \n",
    "python -m venv venv(название виртуального окружения может быть любое)\n",
    "активация venv\\Scripts\\activate\n",
    "Виртуальное окружение это отдельная папка с python и его зависимости"
   ]
  },
  {
   "cell_type": "code",
   "execution_count": 1,
   "metadata": {},
   "outputs": [
    {
     "name": "stdout",
     "output_type": "stream",
     "text": [
      "asttokens==2.2.1\n",
      "backcall==0.2.0\n",
      "colorama==0.4.6\n",
      "comm==0.1.4\n",
      "debugpy==1.6.7.post1\n",
      "decorator==5.1.1\n",
      "executing==1.2.0\n",
      "ipykernel==6.25.1\n",
      "ipython==8.14.0\n",
      "jedi==0.19.0\n",
      "jupyter_client==8.3.0\n",
      "jupyter_core==5.3.1\n",
      "matplotlib-inline==0.1.6\n",
      "nest-asyncio==1.5.7\n",
      "packaging==23.1\n",
      "parso==0.8.3\n",
      "pickleshare==0.7.5\n",
      "platformdirs==3.10.0\n",
      "prompt-toolkit==3.0.39\n",
      "psutil==5.9.5\n",
      "pure-eval==0.2.2\n",
      "Pygments==2.16.1\n",
      "python-dateutil==2.8.2\n",
      "pywin32==306\n",
      "pyzmq==25.1.1\n",
      "six==1.16.0\n",
      "stack-data==0.6.2\n",
      "tornado==6.3.3\n",
      "traitlets==5.9.0\n",
      "wcwidth==0.2.6\n"
     ]
    }
   ],
   "source": [
    "!pip freeze # взаимодействие с терминалом, отображает установленные зависимости, модули"
   ]
  },
  {
   "cell_type": "code",
   "execution_count": null,
   "metadata": {},
   "outputs": [],
   "source": []
  },
  {
   "cell_type": "code",
   "execution_count": null,
   "metadata": {},
   "outputs": [],
   "source": [
    "!pip freeze > requirements.txt # название файла зависимости"
   ]
  },
  {
   "cell_type": "code",
   "execution_count": null,
   "metadata": {},
   "outputs": [],
   "source": [
    "pip - package manager - это установщик зависимости, модулей, утилита, для обновления и установки пакет и выгрузски зависимости"
   ]
  }
 ],
 "metadata": {
  "kernelspec": {
   "display_name": "venv",
   "language": "python",
   "name": "python3"
  },
  "language_info": {
   "codemirror_mode": {
    "name": "ipython",
    "version": 3
   },
   "file_extension": ".py",
   "mimetype": "text/x-python",
   "name": "python",
   "nbconvert_exporter": "python",
   "pygments_lexer": "ipython3",
   "version": "3.11.2"
  },
  "orig_nbformat": 4,
  "vscode": {
   "interpreter": {
    "hash": "dcc9b81c6951db2c8c88c2674dbfa73e3371f9c9f928344014910e4488bf77cd"
   }
  }
 },
 "nbformat": 4,
 "nbformat_minor": 2
}
