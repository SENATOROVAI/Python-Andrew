{
 "cells": [
  {
   "attachments": {},
   "cell_type": "markdown",
   "metadata": {},
   "source": [
    "22.08.2023\n",
    "1) Оформить Github;\n",
    "2) Выбрать и форкнуть репу;\n",
    "3) Внести коммент;\n",
    "4) сделать коммит;\n",
    "5) отправить пул;\n",
    "6) взаимодейсвовать с коллегами.\n"
   ]
  }
 ],
 "metadata": {
  "kernelspec": {
   "display_name": "venv",
   "language": "python",
   "name": "python3"
  },
  "language_info": {
   "name": "python",
   "version": "3.11.2 (tags/v3.11.2:878ead1, Feb  7 2023, 16:38:35) [MSC v.1934 64 bit (AMD64)]"
  },
  "orig_nbformat": 4,
  "vscode": {
   "interpreter": {
    "hash": "dcc9b81c6951db2c8c88c2674dbfa73e3371f9c9f928344014910e4488bf77cd"
   }
  }
 },
 "nbformat": 4,
 "nbformat_minor": 2
}
