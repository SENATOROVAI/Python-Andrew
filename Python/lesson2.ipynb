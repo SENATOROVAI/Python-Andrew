{
 "cells": [
  {
   "attachments": {},
   "cell_type": "markdown",
   "metadata": {},
   "source": [
    "GitLens — Git supercharged скинуть в чат Git коллегам, \n",
    "спросить у коллег про относительный путь и aбсолютный"
   ]
  },
  {
   "attachments": {},
   "cell_type": "markdown",
   "metadata": {},
   "source": [
    "algorithm of iterecton with team\n",
    "1) choose a colleague from the team\n",
    "2) choosing a repository or write to the chat,recommend a turnip for review\n",
    "3)git clone "
   ]
  }
 ],
 "metadata": {
  "kernelspec": {
   "display_name": "venv",
   "language": "python",
   "name": "python3"
  },
  "language_info": {
   "name": "python",
   "version": "3.11.2 (tags/v3.11.2:878ead1, Feb  7 2023, 16:38:35) [MSC v.1934 64 bit (AMD64)]"
  },
  "orig_nbformat": 4,
  "vscode": {
   "interpreter": {
    "hash": "dcc9b81c6951db2c8c88c2674dbfa73e3371f9c9f928344014910e4488bf77cd"
   }
  }
 },
 "nbformat": 4,
 "nbformat_minor": 2
}
