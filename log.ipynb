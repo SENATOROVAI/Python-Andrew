{
 "cells": [
  {
   "attachments": {},
   "cell_type": "markdown",
   "metadata": {},
   "source": [
    "17.08.2023\n",
    "1) fork - это копия чужого репозитория в свой аккаунт на Github\n",
    "2) pull requests - это предачи своих изменений в репозитории в чужой аккаунт на Github\n",
    "3) commit - фиксация изменений\n",
    "4) git clone - клонирование на локальный хост\n",
    "5) python -m venv (name_folder) # создание вирутального окружения\n",
    "6) Виртуальное окружение это отдельная папка с python и его зависимости\n",
    "7) !pip freeze # отображает установленные зависимости в терминале, модули # \"!\" только в VS\n",
    "8) !pip freeze > requirements.txt # название файла зависимости # \"!\" только в VS\n",
    "9) pip - package manager - это установщик зависимости, модулей, утилит, для обновления и установки пакет и выгрузски зависимости"
   ]
  },
  {
   "cell_type": "markdown",
   "metadata": {},
   "source": [
    "22.08.2023\n",
    "1) Оформить Github;\n",
    "2) Выбрать и форкнуть репу;\n",
    "3) Внести коммент;\n",
    "4) сделать коммит;\n",
    "5) отправить пул;\n",
    "6) взаимодейсвовать с коллегами.\n"
   ]
  }
 ],
 "metadata": {
  "kernelspec": {
   "display_name": "venv",
   "language": "python",
   "name": "python3"
  },
  "language_info": {
   "name": "python",
   "version": "3.11.2 (tags/v3.11.2:878ead1, Feb  7 2023, 16:38:35) [MSC v.1934 64 bit (AMD64)]"
  },
  "orig_nbformat": 4,
  "vscode": {
   "interpreter": {
    "hash": "dcc9b81c6951db2c8c88c2674dbfa73e3371f9c9f928344014910e4488bf77cd"
   }
  }
 },
 "nbformat": 4,
 "nbformat_minor": 2
}
